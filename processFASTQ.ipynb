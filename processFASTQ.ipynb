{
 "cells": [
  {
   "cell_type": "code",
   "execution_count": null,
   "metadata": {
    "collapsed": false
   },
   "outputs": [],
   "source": [
    "import subprocess\n",
    "import sys\n",
    "import re\n",
    "import time\n",
    "\n",
    "# outputfileheader=sys.argv[1]\n",
    "\n",
    "# ls_output = subprocess.check_output('gunzip fastq/*.gz',shell=True)\n",
    "outputfileheader='RSIX'\n",
    "dir='/Volumes/smolke-lab$/Joy/MFS/RSIX/fastq2csv'\n",
    "\n",
    "R1files = subprocess.check_output('ls '+dir+'/*_R1*',shell=True)\n",
    "R2files = subprocess.check_output('ls '+dir+'/*_R2*',shell=True)\n",
    "\n",
    "R1joined=''.join(R1files)\n",
    "R1list=R1joined.split('\\n')\n",
    "\n",
    "R2joined=''.join(R2files)\n",
    "R2list=R2joined.split('\\n')\n",
    "\n",
    "hasindexing=False\n",
    "pat=re.compile('([0-9]+)')\n",
    "\n",
    "\n",
    "print R1list"
   ]
  },
  {
   "cell_type": "code",
   "execution_count": null,
   "metadata": {
    "collapsed": false
   },
   "outputs": [],
   "source": [
    "# Join the two read end sequences together for paired-end reads that do overlap\n",
    "f=open('pearallfrompy.sh','a')\n",
    "\n",
    "if hasindexing:\n",
    "    for i in range(len(R1list)):\n",
    "        cmdstr= '~/Documents/Bioinformatics/PEAR/src/pear -f '+R1list[i]+' -r '+R2list[i]+' -o '+outputfileheader+'_I'+Inum+' > '+outputfileheader+'_I'+Inum+'_peared.log'\n",
    "        f.write(cmdstr+'\\n')\n",
    "    f.close()\n",
    "else:\n",
    "    cmdstr= '~/Documents/Bioinformatics/PEAR/src/pear -f '+R1list[0]+' -r '+R2list[0]+' -o '+outputfileheader+' > '+outputfileheader+'_peared.log'\n",
    "    f.write(cmdstr+'\\n')\n",
    "    f.close()\n",
    "\n",
    "subprocess.call('chmod +x pearallfrompy.sh',shell=True)\n",
    "subprocess.call('./pearallfrompy.sh',shell=True)\n",
    "\n",
    "# remove unique coverage IDs\n",
    "# for the pJX20-sTRSVctllib\n",
    "start = time.time()\n",
    "\n",
    "cmdstr1='perl -n -e \\''\n",
    "cmdstr2='/([A-Z]+GGATCC)([A|C|G|T][A|C|G|T][A|C|G|T][A|C|G|T][A|C|G|T][A|C|G|T])(AAACAAACAAA[A-Z]+-?[A-Z]+AAAAAGAAAAATAAAAA)([A|C|G|T][A|C|G|T][A|C|G|T][A|C|G|T][A|C|G|T][A|C|G|T])(GGTACC[A-Z]+)/ && print \"$1$2$3$4$5\\\\n\"\\' ' \n",
    "cmdstr3=outputfileheader+'*.assembled.fastq > '+outputfileheader+'_ctrlseqs.seq'\n",
    "print cmdstr1+cmdstr2+cmdstr3\n",
    "subprocess.call(cmdstr1+cmdstr2+cmdstr3,shell=True)\n",
    "\n",
    "\n",
    "end = time.time()\n",
    "print(end - start)\n",
    "\n"
   ]
  },
  {
   "cell_type": "code",
   "execution_count": null,
   "metadata": {
    "collapsed": false
   },
   "outputs": [],
   "source": [
    "# Join the two read end sequences together for paired-end reads that do NOT overlap\n",
    "# this can take a very long time, if the files are big (>a few GB)\n",
    "import time\n",
    "start = time.time()\n",
    "\n",
    "f=open('pasteallfrompy.sh','a')\n",
    "\n",
    "for i in range(len(R1list)):\n",
    "    m=re.search(pat,R1list[i])\n",
    "    if hasindexing:\n",
    "        if m:\n",
    "            Inum=m.group(2)\n",
    "            cmdstr='paste -d \"-\" '+outputfileheader+'_I'+Inum+'.unassembled.forward.fastq '+outputfileheader+'_I'+Inum+'.unassembled.reverse.fastq > '+outputfileheader+'_I'+Inum+'.unassembled.pasted.fastq'\n",
    "    else:\n",
    "        cmdstr='paste -d \"-\" '+outputfileheader+'.unassembled.forward.fastq '+outputfileheader+'.unassembled.reverse.fastq > '+outputfileheader+'.unassembled.pasted.fastq'\n",
    "#         print cmdstr\n",
    "        \n",
    "    f.write(cmdstr+'\\n')\n",
    "        \n",
    "f.close()\n",
    "# subprocess.call('chmod +x pasteallfrompy.sh',shell=True)\n",
    "# subprocess.call('./pasteallfrompy.sh',shell=True)\n",
    "\n",
    "end = time.time()\n",
    "print(end - start)\n",
    "\n",
    "# grep all the pasted files that contain cdGII aptamer, and join them together\n",
    "# GCTGTCACCGAGAAACTGTGAAGTATATCTTAAACCTGGGCACTT AAAAGATATATGGAGTTAGTAGTGCAACCTGCTCGGTCTGATGA GTCCNNNNNNGGACGAAACAGC\n",
    "\n",
    "cmdstr1='perl -n -e \\''\n",
    "cmdstr2='/(^[A-Z]+GGATCC)([A|C|G|T][A|C|G|T][A|C|G|T][A|C|G|T][A|C|G|T][A|C|G|T])(AAACAAACAAAGCTGTCACCGAGAAACTGTGAAGTATATCTTAAACCTGGGCACTT)([A-Z]+-?[A-Z]+)(GTCC[A|C|G|T][A|C|G|T][A|C|G|T][A|C|G|T][A|C|G|T][A|C|G|T]?GGACGAAACAGCAAAAAGAAAAATAAAAA)([A|C|G|T][A|C|G|T][A|C|G|T][A|C|G|T][A|C|G|T][A|C|G|T]GGTACC[A-Z]+)/ && print \"$1$2$3AAAAGATATATGGAGTTAGTAGTGCAACCTGCTCGGTCTGATGA$5$6\\\\n\"\\' ' \n",
    "cmdstr3=outputfileheader+'.unassembled.pasted.fastq > '+outputfileheader+'_cdGII.seq'\n",
    "print cmdstr1+cmdstr2+cmdstr3\n",
    "subprocess.call(cmdstr1+cmdstr2+cmdstr3,shell=True)\n",
    "\n",
    "# grep all the pasted files that contain cdGI aptamer, and join them together\n",
    "# GCTGTCACCGCGCACAGGGCAAACCATTCGAAAGAGTGGGACGC AAAGCCTCCGGCCTAAACCAGAAGACATGGTAGGTAGCGGGGTTACCGCGGTCTGATGA GTCCNNNNNNGGACGAAACAGC\n",
    "\n",
    "cmdstr1='perl -n -e \\''\n",
    "cmdstr2='/(^[A-Z]+GGATCC)([A|C|G|T][A|C|G|T][A|C|G|T][A|C|G|T][A|C|G|T][A|C|G|T])(AAACAAACAAAGCTGTCACCGCGCACAGGGCAAACCATTCGAAAGAGTGGGACGC)([A-Z]+-?[A-Z]+)(GTCC[A|C|G|T][A|C|G|T][A|C|G|T][A|C|G|T][A|C|G|T][A|C|G|T]?GGACGAAACAGCAAAAAGAAAAATAAAAA)([A|C|G|T][A|C|G|T][A|C|G|T][A|C|G|T][A|C|G|T][A|C|G|T]GGTACC[A-Z]+)/ && print \"$1$2$3AAAGCCTCCGGCCTAAACCAGAAGACATGGTAGGTAGCGGGGTTACCGCGGTCTGATGA$5$6\\\\n\"\\' ' \n",
    "cmdstr3=outputfileheader+'.unassembled.pasted.fastq > '+outputfileheader+'_cdGI.seq'\n",
    "print cmdstr1+cmdstr2+cmdstr3\n",
    "subprocess.call(cmdstr1+cmdstr2+cmdstr3,shell=True)\n",
    "\n",
    "\n",
    "\n"
   ]
  },
  {
   "cell_type": "code",
   "execution_count": null,
   "metadata": {
    "collapsed": true
   },
   "outputs": [],
   "source": [
    "# combine the three different libraries into one file, _allseqs.seq\n",
    "\n",
    "seqfiles = subprocess.check_output('ls *_*.seq',shell=True)\n",
    "\n",
    "seqjoined=''.join(seqfiles)\n",
    "seqlist=seqjoined.split('\\n')\n",
    "\n",
    "seqstr=' '.join(seqlist)\n",
    "\n",
    "cmdstr='cat '+seqstr+'> '+outputfileheader+'_allseqs.seq'\n",
    "print cmdstr\n",
    "\n",
    "subprocess.call(cmdstr,shell=True)\n",
    "\n",
    "# remove unique coverage IDs\n",
    "start = time.time()\n",
    "\n",
    "cmdstr1='perl -n -e \\''\n",
    "cmdstr2='/([A-Z]+GGATCC)([A|C|G|T][A|C|G|T][A|C|G|T][A|C|G|T][A|C|G|T][A|C|G|T])(AAACAAACAAA[A-Z]+-?[A-Z]+AAAAAGAAAAATAAAAA)([A|C|G|T][A|C|G|T][A|C|G|T][A|C|G|T][A|C|G|T][A|C|G|T])(GGTACC[A-Z]+)/ && print \"$1$3$5\\\\n\"\\' ' \n",
    "cmdstr3=outputfileheader+'_allseqs.seq > '+outputfileheader+'_all.seq'\n",
    "print cmdstr1+cmdstr2+cmdstr3\n",
    "subprocess.call(cmdstr1+cmdstr2+cmdstr3,shell=True)\n",
    "end = time.time()\n",
    "print(end - start)"
   ]
  },
  {
   "cell_type": "code",
   "execution_count": null,
   "metadata": {
    "collapsed": false,
    "scrolled": false
   },
   "outputs": [],
   "source": [
    "# demultiplex / assign barcodes\n",
    "\n",
    "%run -i parseBarcodes.py barcodes.txt RSIX_all.seq RSIX"
   ]
  },
  {
   "cell_type": "code",
   "execution_count": null,
   "metadata": {
    "collapsed": false
   },
   "outputs": [],
   "source": [
    "# convert demultiplexed file into .csv file\n",
    "import pandas as pd\n",
    "import numpy as np\n",
    "from subprocess import call\n",
    "\n",
    "start = time.time()\n",
    "libindeces=range(0,17)\n",
    "\n",
    "bcfile=outputfileheader+'_barcoded.txt'\n",
    "text_file = open(bcfile, \"r\")\n",
    "seqs = text_file.readlines()\n",
    "text_file.close()\n",
    "\n",
    "\n",
    "seqval=[]\n",
    "seqcnt=[]\n",
    "\n",
    "\n",
    "for x in seqs:\n",
    "    s,c=np.unique(x.split(),return_counts=True)\n",
    "    seqval.append([s])\n",
    "    seqcnt.append([c])\n",
    "\n",
    "frames=[]\n",
    "for i in range(len(seqcnt)):\n",
    "    tsc=tuple(seqcnt[i][0])\n",
    "    df = pd.DataFrame(data=list(tsc),columns=[libindeces[i]],index=(tuple(seqval[i][0])))\n",
    "    frames.append(df)\n",
    "\n",
    "combined=pd.concat(frames,axis=1)\n",
    "combinedcounts=combined.reindex_axis(sorted(combined.columns), axis=1)\n",
    "combinedcounts.to_csv(outputfileheader+'_combinedcounts.csv', index=True, header=False,columns=range(0,len(combined.columns)+1))\n",
    "combinedcounts\n",
    "\n",
    "end = time.time()\n",
    "print(end - start)\n"
   ]
  },
  {
   "cell_type": "code",
   "execution_count": null,
   "metadata": {
    "collapsed": false,
    "scrolled": true
   },
   "outputs": [],
   "source": [
    "print combinedcounts.sum()"
   ]
  },
  {
   "cell_type": "code",
   "execution_count": null,
   "metadata": {
    "collapsed": true
   },
   "outputs": [],
   "source": []
  }
 ],
 "metadata": {
  "anaconda-cloud": {},
  "kernelspec": {
   "display_name": "Python [Root]",
   "language": "python",
   "name": "Python [Root]"
  },
  "language_info": {
   "codemirror_mode": {
    "name": "ipython",
    "version": 2
   },
   "file_extension": ".py",
   "mimetype": "text/x-python",
   "name": "python",
   "nbconvert_exporter": "python",
   "pygments_lexer": "ipython2",
   "version": "2.7.11"
  }
 },
 "nbformat": 4,
 "nbformat_minor": 0
}
